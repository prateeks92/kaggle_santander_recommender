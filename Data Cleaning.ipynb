{
 "cells": [
  {
   "cell_type": "markdown",
   "metadata": {},
   "source": [
    "<H1> Data Cleaning </H1>"
   ]
  },
  {
   "cell_type": "code",
   "execution_count": 2,
   "metadata": {},
   "outputs": [],
   "source": [
    "# coding=utf-8\n",
    "import matplotlib\n",
    "matplotlib.use('TkAgg')\n",
    "import matplotlib.pyplot as plt\n",
    "import pandas as pd\n",
    "import datetime\n",
    "import numpy as np"
   ]
  },
  {
   "cell_type": "code",
   "execution_count": 3,
   "metadata": {},
   "outputs": [],
   "source": [
    "class_label_columns = ['ind_ahor_fin_ult1',         # Saving Account\n",
    "                       'ind_aval_fin_ult1',         # Guarantees\n",
    "                       'ind_cco_fin_ult1',          # Current Accounts\n",
    "                       'ind_cder_fin_ult1',         # Derivada Account\n",
    "                       'ind_cno_fin_ult1',          # Payroll Account\n",
    "                       'ind_ctju_fin_ult1',         # Junior Account\n",
    "                       'ind_ctma_fin_ult1',         # Más particular Account\n",
    "                       'ind_ctop_fin_ult1',         # particular Account\n",
    "                       'ind_ctpp_fin_ult1',         # particular Plus Account\n",
    "                       'ind_deco_fin_ult1',         # Short-term deposits\n",
    "                       'ind_deme_fin_ult1',         # Medium-term deposits\n",
    "                       'ind_dela_fin_ult1',         # Long-term deposits\n",
    "                       'ind_ecue_fin_ult1',         # e-account\n",
    "                       'ind_fond_fin_ult1',         # Funds\n",
    "                       'ind_hip_fin_ult1',          # Mortgage\n",
    "                       'ind_plan_fin_ult1',         # Pensions\n",
    "                       'ind_pres_fin_ult1',         # Loans\n",
    "                       'ind_reca_fin_ult1',         # Taxes\n",
    "                       'ind_tjcr_fin_ult1',         # Credit Card\n",
    "                       'ind_valo_fin_ult1',         # Securities\n",
    "                       'ind_viv_fin_ult1',          # Home Account\n",
    "                       'ind_nomina_ult1',           # Payroll\n",
    "                       'ind_nom_pens_ult1',         # Pensions\n",
    "                       'ind_recibo_ult1'            # Direct Debit\n",
    "                       ]\n",
    "\n",
    "data_type = {\"sexo\": str,\n",
    "             \"ind_nuevo\": str,\n",
    "             \"ult_fec_cli_1t\": str,\n",
    "             \"indext\": str}\n",
    "\n",
    "# List of columns with initial null values\n",
    "col_with_Null_values = []\n",
    "# Result returned by df.isnull().any()\n",
    "\n",
    "ind_empleado = {\"A\": 1,\n",
    "                \"B\": 2,\n",
    "                \"F\": 3,\n",
    "                \"N\": 4,\n",
    "                \"P\": 5}"
   ]
  },
  {
   "cell_type": "code",
   "execution_count": 4,
   "metadata": {},
   "outputs": [
    {
     "name": "stderr",
     "output_type": "stream",
     "text": [
      "/Users/amitrajan/Desktop/PythonVirtualEnvs/MLProject/lib/python2.7/site-packages/IPython/core/interactiveshell.py:2718: DtypeWarning: Columns (5,8,11,15) have mixed types. Specify dtype option on import or set low_memory=False.\n",
      "  interactivity=interactivity, compiler=compiler, result=result)\n"
     ]
    }
   ],
   "source": [
    "df = pd.read_csv(\"train.csv\", dtype=data_type)"
   ]
  },
  {
   "cell_type": "code",
   "execution_count": 5,
   "metadata": {},
   "outputs": [],
   "source": [
    "# Fill Missing Class Labels with 0\n",
    "def fillMissingClassLabels():\n",
    "    for columns in class_label_columns:\n",
    "        df[columns].fillna(0, inplace=True)\n",
    "\n"
   ]
  },
  {
   "cell_type": "code",
   "execution_count": 6,
   "metadata": {},
   "outputs": [],
   "source": [
    "# Extract month values from date and assign to new variable\n",
    "def createMonthValues():\n",
    "    df[\"month\"] = pd.DatetimeIndex(df[\"fecha_dato\"]).month"
   ]
  },
  {
   "cell_type": "code",
   "execution_count": 7,
   "metadata": {},
   "outputs": [],
   "source": [
    "# Get column name with NULL values\n",
    "def getColNameWithNullValues():\n",
    "    for index, value in df.isnull().any().iteritems():\n",
    "        if value:\n",
    "            col_with_Null_values.append(index)"
   ]
  },
  {
   "cell_type": "code",
   "execution_count": 8,
   "metadata": {},
   "outputs": [],
   "source": [
    "# Fill NULL values for the columns with appropriate vlaues\n",
    "def fillNullValues():\n",
    "    for columns in col_with_Null_values:\n",
    "        if columns == \"nomprov\":\n",
    "            # UNKNOWN for Province Name\n",
    "            df[columns].fillna(\"UNKNOWN\", inplace=True)\n",
    "        elif columns == \"ind_nuevo\":\n",
    "            # New customer Index : Fill 1 for the missing value\n",
    "            df[columns].fillna(1, inplace=True)\n",
    "        elif columns == \"antiguedad\":\n",
    "            # Customer Seniority : Fill with 0\n",
    "            df[columns].fillna(0, inplace=True)\n",
    "        elif columns == \"fecha_alta\":\n",
    "            # The date in which the customer became as the first holder of a contract in the bank\n",
    "            # Replace with median value\n",
    "            dates = df.loc[:, \"fecha_alta\"].sort_values().reset_index()\n",
    "            median = int(np.median(dates.index.values))\n",
    "            df[columns].fillna(dates.loc[median, \"fecha_alta\"], inplace=True)\n",
    "        elif columns == \"indrel\":\n",
    "            # indrel: 1 (First/Primary), 99 (Primary customer during the month but not at the end of the month)\n",
    "            df[columns].fillna(1, inplace=True)\n",
    "        elif columns == \"renta\":\n",
    "            # will analyze separately\n",
    "            pass\n",
    "        elif columns == \"indfall\":\n",
    "            # Deceased index. N/S\n",
    "            df[columns].fillna(\"N\", inplace=True)\n",
    "        elif columns == \"tiprel_1mes\":\n",
    "            # Customer type at the beginning of the month\n",
    "            # Fill as potential customer\n",
    "            df[columns].fillna(\"P\", inplace=True)\n",
    "        elif columns == \"indrel_1mes\":\n",
    "            # Deceased index. N/S\n",
    "            df[columns].fillna(\"A\", inplace=True)\n",
    "        else:\n",
    "            df[columns].fillna(\"UNKWN\", inplace=True)"
   ]
  },
  {
   "cell_type": "code",
   "execution_count": 9,
   "metadata": {},
   "outputs": [],
   "source": [
    "# Change data types\n",
    "def changeDataTypeAge():\n",
    "    df[\"age\"] = pd.to_numeric(df[\"age\"], errors=\"coerce\")"
   ]
  },
  {
   "cell_type": "code",
   "execution_count": 10,
   "metadata": {},
   "outputs": [],
   "source": [
    "# Remove outliers from age\n",
    "def removeOutliersFromAge():\n",
    "    df.loc[df.age < 18, \"age\"] = df.loc[(df.age >= 18) & (df.age <= 30), \"age\"].mean(skipna=True)\n",
    "    df.loc[df.age > 100, \"age\"] = df.loc[(df.age >= 30) & (df.age <= 100), \"age\"].mean(skipna=True)\n",
    "    df[\"age\"].fillna(df[\"age\"].mean(), inplace=True)\n",
    "    df[\"age\"] = df[\"age\"].astype(int)"
   ]
  },
  {
   "cell_type": "code",
   "execution_count": 11,
   "metadata": {},
   "outputs": [],
   "source": [
    "# Plot graph\n",
    "def dataVisualization():\n",
    "    # Plot of Age distribution\n",
    "    plt.figure()\n",
    "    df['age'].plot.hist(alpha=0.5, bins=80, grid=True, color='green', ec='black')\n",
    "    plt.ylabel('Count')\n",
    "    plt.title('Age Distribution')\n",
    "    plt.xlabel(\"Age\")\n",
    "    plt.savefig(\"Age Distribution.png\")\n",
    "    plt.close()"
   ]
  },
  {
   "cell_type": "code",
   "execution_count": 12,
   "metadata": {},
   "outputs": [],
   "source": [
    "start_time = datetime.datetime.now()"
   ]
  },
  {
   "cell_type": "code",
   "execution_count": 13,
   "metadata": {},
   "outputs": [
    {
     "data": {
      "text/html": [
       "<div>\n",
       "<table border=\"1\" class=\"dataframe\">\n",
       "  <thead>\n",
       "    <tr style=\"text-align: right;\">\n",
       "      <th></th>\n",
       "      <th>fecha_dato</th>\n",
       "      <th>ncodpers</th>\n",
       "      <th>ind_empleado</th>\n",
       "      <th>pais_residencia</th>\n",
       "      <th>sexo</th>\n",
       "      <th>age</th>\n",
       "      <th>fecha_alta</th>\n",
       "      <th>ind_nuevo</th>\n",
       "      <th>antiguedad</th>\n",
       "      <th>indrel</th>\n",
       "      <th>...</th>\n",
       "      <th>ind_hip_fin_ult1</th>\n",
       "      <th>ind_plan_fin_ult1</th>\n",
       "      <th>ind_pres_fin_ult1</th>\n",
       "      <th>ind_reca_fin_ult1</th>\n",
       "      <th>ind_tjcr_fin_ult1</th>\n",
       "      <th>ind_valo_fin_ult1</th>\n",
       "      <th>ind_viv_fin_ult1</th>\n",
       "      <th>ind_nomina_ult1</th>\n",
       "      <th>ind_nom_pens_ult1</th>\n",
       "      <th>ind_recibo_ult1</th>\n",
       "    </tr>\n",
       "  </thead>\n",
       "  <tbody>\n",
       "    <tr>\n",
       "      <th>0</th>\n",
       "      <td>2015-01-28</td>\n",
       "      <td>1375586</td>\n",
       "      <td>N</td>\n",
       "      <td>ES</td>\n",
       "      <td>H</td>\n",
       "      <td>35</td>\n",
       "      <td>2015-01-12</td>\n",
       "      <td>0</td>\n",
       "      <td>6</td>\n",
       "      <td>1.0</td>\n",
       "      <td>...</td>\n",
       "      <td>0</td>\n",
       "      <td>0</td>\n",
       "      <td>0</td>\n",
       "      <td>0</td>\n",
       "      <td>0</td>\n",
       "      <td>0</td>\n",
       "      <td>0</td>\n",
       "      <td>0.0</td>\n",
       "      <td>0.0</td>\n",
       "      <td>0</td>\n",
       "    </tr>\n",
       "    <tr>\n",
       "      <th>1</th>\n",
       "      <td>2015-01-28</td>\n",
       "      <td>1050611</td>\n",
       "      <td>N</td>\n",
       "      <td>ES</td>\n",
       "      <td>V</td>\n",
       "      <td>23</td>\n",
       "      <td>2012-08-10</td>\n",
       "      <td>0</td>\n",
       "      <td>35</td>\n",
       "      <td>1.0</td>\n",
       "      <td>...</td>\n",
       "      <td>0</td>\n",
       "      <td>0</td>\n",
       "      <td>0</td>\n",
       "      <td>0</td>\n",
       "      <td>0</td>\n",
       "      <td>0</td>\n",
       "      <td>0</td>\n",
       "      <td>0.0</td>\n",
       "      <td>0.0</td>\n",
       "      <td>0</td>\n",
       "    </tr>\n",
       "    <tr>\n",
       "      <th>2</th>\n",
       "      <td>2015-01-28</td>\n",
       "      <td>1050612</td>\n",
       "      <td>N</td>\n",
       "      <td>ES</td>\n",
       "      <td>V</td>\n",
       "      <td>23</td>\n",
       "      <td>2012-08-10</td>\n",
       "      <td>0</td>\n",
       "      <td>35</td>\n",
       "      <td>1.0</td>\n",
       "      <td>...</td>\n",
       "      <td>0</td>\n",
       "      <td>0</td>\n",
       "      <td>0</td>\n",
       "      <td>0</td>\n",
       "      <td>0</td>\n",
       "      <td>0</td>\n",
       "      <td>0</td>\n",
       "      <td>0.0</td>\n",
       "      <td>0.0</td>\n",
       "      <td>0</td>\n",
       "    </tr>\n",
       "    <tr>\n",
       "      <th>3</th>\n",
       "      <td>2015-01-28</td>\n",
       "      <td>1050613</td>\n",
       "      <td>N</td>\n",
       "      <td>ES</td>\n",
       "      <td>H</td>\n",
       "      <td>22</td>\n",
       "      <td>2012-08-10</td>\n",
       "      <td>0</td>\n",
       "      <td>35</td>\n",
       "      <td>1.0</td>\n",
       "      <td>...</td>\n",
       "      <td>0</td>\n",
       "      <td>0</td>\n",
       "      <td>0</td>\n",
       "      <td>0</td>\n",
       "      <td>0</td>\n",
       "      <td>0</td>\n",
       "      <td>0</td>\n",
       "      <td>0.0</td>\n",
       "      <td>0.0</td>\n",
       "      <td>0</td>\n",
       "    </tr>\n",
       "    <tr>\n",
       "      <th>4</th>\n",
       "      <td>2015-01-28</td>\n",
       "      <td>1050614</td>\n",
       "      <td>N</td>\n",
       "      <td>ES</td>\n",
       "      <td>V</td>\n",
       "      <td>23</td>\n",
       "      <td>2012-08-10</td>\n",
       "      <td>0</td>\n",
       "      <td>35</td>\n",
       "      <td>1.0</td>\n",
       "      <td>...</td>\n",
       "      <td>0</td>\n",
       "      <td>0</td>\n",
       "      <td>0</td>\n",
       "      <td>0</td>\n",
       "      <td>0</td>\n",
       "      <td>0</td>\n",
       "      <td>0</td>\n",
       "      <td>0.0</td>\n",
       "      <td>0.0</td>\n",
       "      <td>0</td>\n",
       "    </tr>\n",
       "  </tbody>\n",
       "</table>\n",
       "<p>5 rows × 48 columns</p>\n",
       "</div>"
      ],
      "text/plain": [
       "   fecha_dato  ncodpers ind_empleado pais_residencia sexo  age  fecha_alta  \\\n",
       "0  2015-01-28   1375586            N              ES    H   35  2015-01-12   \n",
       "1  2015-01-28   1050611            N              ES    V   23  2012-08-10   \n",
       "2  2015-01-28   1050612            N              ES    V   23  2012-08-10   \n",
       "3  2015-01-28   1050613            N              ES    H   22  2012-08-10   \n",
       "4  2015-01-28   1050614            N              ES    V   23  2012-08-10   \n",
       "\n",
       "  ind_nuevo antiguedad  indrel       ...        ind_hip_fin_ult1  \\\n",
       "0         0          6     1.0       ...                       0   \n",
       "1         0         35     1.0       ...                       0   \n",
       "2         0         35     1.0       ...                       0   \n",
       "3         0         35     1.0       ...                       0   \n",
       "4         0         35     1.0       ...                       0   \n",
       "\n",
       "  ind_plan_fin_ult1 ind_pres_fin_ult1 ind_reca_fin_ult1 ind_tjcr_fin_ult1  \\\n",
       "0                 0                 0                 0                 0   \n",
       "1                 0                 0                 0                 0   \n",
       "2                 0                 0                 0                 0   \n",
       "3                 0                 0                 0                 0   \n",
       "4                 0                 0                 0                 0   \n",
       "\n",
       "  ind_valo_fin_ult1 ind_viv_fin_ult1 ind_nomina_ult1  ind_nom_pens_ult1  \\\n",
       "0                 0                0             0.0                0.0   \n",
       "1                 0                0             0.0                0.0   \n",
       "2                 0                0             0.0                0.0   \n",
       "3                 0                0             0.0                0.0   \n",
       "4                 0                0             0.0                0.0   \n",
       "\n",
       "   ind_recibo_ult1  \n",
       "0                0  \n",
       "1                0  \n",
       "2                0  \n",
       "3                0  \n",
       "4                0  \n",
       "\n",
       "[5 rows x 48 columns]"
      ]
     },
     "execution_count": 13,
     "metadata": {},
     "output_type": "execute_result"
    }
   ],
   "source": [
    "df.head()"
   ]
  },
  {
   "cell_type": "code",
   "execution_count": 14,
   "metadata": {},
   "outputs": [],
   "source": [
    "# Fill missing class labels\n",
    "fillMissingClassLabels()"
   ]
  },
  {
   "cell_type": "code",
   "execution_count": 15,
   "metadata": {},
   "outputs": [],
   "source": [
    "# Get month values from the date and make a new column as month values are important\n",
    "createMonthValues()"
   ]
  },
  {
   "cell_type": "code",
   "execution_count": 16,
   "metadata": {},
   "outputs": [],
   "source": [
    "# Generate list of column names with null values\n",
    "getColNameWithNullValues()"
   ]
  },
  {
   "cell_type": "code",
   "execution_count": 17,
   "metadata": {},
   "outputs": [
    {
     "name": "stdout",
     "output_type": "stream",
     "text": [
      "fecha_dato               False\n",
      "ncodpers                 False\n",
      "ind_empleado              True\n",
      "pais_residencia           True\n",
      "sexo                      True\n",
      "age                      False\n",
      "fecha_alta                True\n",
      "ind_nuevo                 True\n",
      "antiguedad               False\n",
      "indrel                    True\n",
      "ult_fec_cli_1t            True\n",
      "indrel_1mes               True\n",
      "tiprel_1mes               True\n",
      "indresi                   True\n",
      "indext                    True\n",
      "conyuemp                  True\n",
      "canal_entrada             True\n",
      "indfall                   True\n",
      "tipodom                   True\n",
      "cod_prov                  True\n",
      "nomprov                   True\n",
      "ind_actividad_cliente     True\n",
      "renta                     True\n",
      "segmento                  True\n",
      "ind_ahor_fin_ult1        False\n",
      "ind_aval_fin_ult1        False\n",
      "ind_cco_fin_ult1         False\n",
      "ind_cder_fin_ult1        False\n",
      "ind_cno_fin_ult1         False\n",
      "ind_ctju_fin_ult1        False\n",
      "ind_ctma_fin_ult1        False\n",
      "ind_ctop_fin_ult1        False\n",
      "ind_ctpp_fin_ult1        False\n",
      "ind_deco_fin_ult1        False\n",
      "ind_deme_fin_ult1        False\n",
      "ind_dela_fin_ult1        False\n",
      "ind_ecue_fin_ult1        False\n",
      "ind_fond_fin_ult1        False\n",
      "ind_hip_fin_ult1         False\n",
      "ind_plan_fin_ult1        False\n",
      "ind_pres_fin_ult1        False\n",
      "ind_reca_fin_ult1        False\n",
      "ind_tjcr_fin_ult1        False\n",
      "ind_valo_fin_ult1        False\n",
      "ind_viv_fin_ult1         False\n",
      "ind_nomina_ult1          False\n",
      "ind_nom_pens_ult1        False\n",
      "ind_recibo_ult1          False\n",
      "month                    False\n",
      "dtype: bool\n"
     ]
    }
   ],
   "source": [
    "# Column Names with null values\n",
    "print df.isnull().any()"
   ]
  },
  {
   "cell_type": "code",
   "execution_count": 18,
   "metadata": {},
   "outputs": [],
   "source": [
    "# Fill null values\n",
    "fillNullValues()"
   ]
  },
  {
   "cell_type": "code",
   "execution_count": 19,
   "metadata": {},
   "outputs": [],
   "source": [
    "# Fill missing income values with medians of corresponding province\n",
    "# Fill rent values based on the Median income of the corresponding province\n",
    "# Code courtsey: Kaggle kernal\n",
    "grouped = df.groupby(\"nomprov\").agg({\"renta\":lambda x: x.median(skipna=True)}).reset_index()\n",
    "new_incomes = pd.merge(df,grouped,how=\"inner\",on=\"nomprov\").loc[:, [\"nomprov\",\"renta_temp\"]]\n",
    "new_incomes = new_incomes.rename(columns={\"renta_temp\":\"renta\"}).sort_values(\"renta\").sort_values(\"nomprov\")\n",
    "df.sort_values(\"nomprov\",inplace=True)\n",
    "df = df.reset_index()\n",
    "new_incomes = new_incomes.reset_index()\n",
    "\n",
    "df.loc[df.renta.isnull(),\"renta\"] = new_incomes.loc[df.renta.isnull(),\"renta\"].reset_index()\n",
    "df.loc[df.renta.isnull(),\"renta\"] = df.loc[df.renta.notnull(),\"renta\"].median()\n",
    "df.sort_values(by=\"fecha_dato\", inplace=True)"
   ]
  },
  {
   "cell_type": "code",
   "execution_count": 20,
   "metadata": {
    "scrolled": true
   },
   "outputs": [
    {
     "name": "stdout",
     "output_type": "stream",
     "text": [
      "index                    False\n",
      "fecha_dato               False\n",
      "ncodpers                 False\n",
      "ind_empleado             False\n",
      "pais_residencia          False\n",
      "sexo                     False\n",
      "age                      False\n",
      "fecha_alta               False\n",
      "ind_nuevo                False\n",
      "antiguedad               False\n",
      "indrel                   False\n",
      "ult_fec_cli_1t           False\n",
      "indrel_1mes              False\n",
      "tiprel_1mes              False\n",
      "indresi                  False\n",
      "indext                   False\n",
      "conyuemp                 False\n",
      "canal_entrada            False\n",
      "indfall                  False\n",
      "tipodom                  False\n",
      "cod_prov                 False\n",
      "nomprov                  False\n",
      "ind_actividad_cliente    False\n",
      "renta                    False\n",
      "segmento                 False\n",
      "ind_ahor_fin_ult1        False\n",
      "ind_aval_fin_ult1        False\n",
      "ind_cco_fin_ult1         False\n",
      "ind_cder_fin_ult1        False\n",
      "ind_cno_fin_ult1         False\n",
      "ind_ctju_fin_ult1        False\n",
      "ind_ctma_fin_ult1        False\n",
      "ind_ctop_fin_ult1        False\n",
      "ind_ctpp_fin_ult1        False\n",
      "ind_deco_fin_ult1        False\n",
      "ind_deme_fin_ult1        False\n",
      "ind_dela_fin_ult1        False\n",
      "ind_ecue_fin_ult1        False\n",
      "ind_fond_fin_ult1        False\n",
      "ind_hip_fin_ult1         False\n",
      "ind_plan_fin_ult1        False\n",
      "ind_pres_fin_ult1        False\n",
      "ind_reca_fin_ult1        False\n",
      "ind_tjcr_fin_ult1        False\n",
      "ind_valo_fin_ult1        False\n",
      "ind_viv_fin_ult1         False\n",
      "ind_nomina_ult1          False\n",
      "ind_nom_pens_ult1        False\n",
      "ind_recibo_ult1          False\n",
      "month                    False\n",
      "dtype: bool\n"
     ]
    }
   ],
   "source": [
    "# Check whether NULL value exists\n",
    "print df.isnull().any()"
   ]
  },
  {
   "cell_type": "code",
   "execution_count": 21,
   "metadata": {},
   "outputs": [],
   "source": [
    "# Change Data Type of age\n",
    "changeDataTypeAge()"
   ]
  },
  {
   "cell_type": "code",
   "execution_count": 22,
   "metadata": {},
   "outputs": [
    {
     "data": {
      "image/png": "[encoded data removed]",
      "text/plain": [
       "<matplotlib.figure.Figure at 0x142dcbd50>"
      ]
     },
     "metadata": {},
     "output_type": "display_data"
    }
   ],
   "source": [
    "# Histogram Age\n",
    "%matplotlib inline\n",
    "plt.figure()\n",
    "df['age'].plot.hist(alpha=0.5, bins=80, grid=True, color='green', ec='black')\n",
    "plt.ylabel('Count')\n",
    "plt.title('Age Distribution')\n",
    "plt.xlabel(\"Age\")\n",
    "plt.show()\n",
    "plt.savefig(\"Age Distribution Before.png\")\n",
    "plt.close()"
   ]
  },
  {
   "cell_type": "code",
   "execution_count": 23,
   "metadata": {},
   "outputs": [],
   "source": [
    "# Remove outliers from Age\n",
    "removeOutliersFromAge()"
   ]
  },
  {
   "cell_type": "code",
   "execution_count": 24,
   "metadata": {},
   "outputs": [
    {
     "data": {
      "image/png": "[encoded data removed]",
      "text/plain": [
       "<matplotlib.figure.Figure at 0x11045c6d0>"
      ]
     },
     "metadata": {},
     "output_type": "display_data"
    }
   ],
   "source": [
    "# Histogram Age after outlier removal\n",
    "%matplotlib inline\n",
    "plt.figure()\n",
    "df['age'].plot.hist(alpha=0.5, bins=80, grid=True, color='green', ec='black')\n",
    "plt.ylabel('Count')\n",
    "plt.title('Age Distribution')\n",
    "plt.xlabel(\"Age\")\n",
    "plt.show()\n",
    "plt.savefig(\"Age Distribution.png\")\n",
    "plt.close()"
   ]
  },
  {
   "cell_type": "code",
   "execution_count": 25,
   "metadata": {},
   "outputs": [],
   "source": [
    "df.to_csv(\"train_cleaned.csv\", sep=',', encoding='utf-8')"
   ]
  }
 ],
 "metadata": {
  "kernelspec": {
   "display_name": "Python 2",
   "language": "python",
   "name": "python2"
  },
  "language_info": {
   "codemirror_mode": {
    "name": "ipython",
    "version": 2
   },
   "file_extension": ".py",
   "mimetype": "text/x-python",
   "name": "python",
   "nbconvert_exporter": "python",
   "pygments_lexer": "ipython2",
   "version": "2.7.13"
  }
 },
 "nbformat": 4,
 "nbformat_minor": 2
}
